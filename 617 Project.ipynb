{
 "cells": [
  {
   "cell_type": "markdown",
   "metadata": {},
   "source": [
    "## General Transportation Problem!\n"
   ]
  },
  {
   "cell_type": "markdown",
   "metadata": {},
   "source": [
    "### Formulate LP"
   ]
  },
  {
   "cell_type": "code",
   "execution_count": 1,
   "metadata": {},
   "outputs": [],
   "source": [
    "import pandas as pd\n",
    "import numpy as np\n",
    "import pulp\n",
    "from pulp import *"
   ]
  },
  {
   "cell_type": "code",
   "execution_count": 2,
   "metadata": {},
   "outputs": [],
   "source": [
    "# List of facilities \n",
    "\n",
    "facilities = ['Troy', 'Newark', 'Harrisburg']\n",
    "\n",
    "# Dictionary for capacity of facilities\n",
    "\n",
    "capacity = {'Troy' : 350 , 'Newark' : 775, 'Harrisburg' : 300}\n",
    "\n",
    "# All retail stores \n",
    "\n",
    "retail_stores = ['Pittsburg', 'Cleveland', 'Buffalo', 'Philadelphia', 'Boston', 'New York', 'Providence', 'Hartford']\n",
    "\n",
    "#Dictionayr of demand\n",
    "\n",
    "demand = {'Pittsburg' : 200, 'Cleveland' : 100, 'Buffalo' : 125, 'Philadelphia' : 250, 'Boston' : 225, \n",
    "          'New York' : 400, 'Providence' : 50, 'Hartford' : 75}\n",
    "\n",
    "# List of all costs \n",
    "\n",
    "costs = [[1.07, 1.02, 0.63, 0.50, 0.37, 0.33, 0.36, 0.25], [0.77, 1.06, 0.61, 0.19, 0.48, 0.03, 0.41, 0.27], [0.43, 0.70, \n",
    "        0.63, 0.23, 0.82, 0.36, 0.74, 0.61]]\n",
    "\n",
    "# Converting cost data into dictionary \n",
    "\n",
    "costs_dict = makeDict([facilities, retail_stores], costs, 0)"
   ]
  },
  {
   "cell_type": "code",
   "execution_count": 3,
   "metadata": {},
   "outputs": [
    {
     "data": {
      "text/plain": [
       "defaultdict(<function pulp.utilities.__makeDict.<locals>.<lambda>()>,\n",
       "            {'Troy': defaultdict(<function pulp.utilities.__makeDict.<locals>.<lambda>()>,\n",
       "                         {'Pittsburg': 1.07,\n",
       "                          'Cleveland': 1.02,\n",
       "                          'Buffalo': 0.63,\n",
       "                          'Philadelphia': 0.5,\n",
       "                          'Boston': 0.37,\n",
       "                          'New York': 0.33,\n",
       "                          'Providence': 0.36,\n",
       "                          'Hartford': 0.25}),\n",
       "             'Newark': defaultdict(<function pulp.utilities.__makeDict.<locals>.<lambda>()>,\n",
       "                         {'Pittsburg': 0.77,\n",
       "                          'Cleveland': 1.06,\n",
       "                          'Buffalo': 0.61,\n",
       "                          'Philadelphia': 0.19,\n",
       "                          'Boston': 0.48,\n",
       "                          'New York': 0.03,\n",
       "                          'Providence': 0.41,\n",
       "                          'Hartford': 0.27}),\n",
       "             'Harrisburg': defaultdict(<function pulp.utilities.__makeDict.<locals>.<lambda>()>,\n",
       "                         {'Pittsburg': 0.43,\n",
       "                          'Cleveland': 0.7,\n",
       "                          'Buffalo': 0.63,\n",
       "                          'Philadelphia': 0.23,\n",
       "                          'Boston': 0.82,\n",
       "                          'New York': 0.36,\n",
       "                          'Providence': 0.74,\n",
       "                          'Hartford': 0.61})})"
      ]
     },
     "execution_count": 3,
     "metadata": {},
     "output_type": "execute_result"
    }
   ],
   "source": [
    "costs_dict"
   ]
  },
  {
   "cell_type": "markdown",
   "metadata": {},
   "source": [
    "### Initialize LP Model"
   ]
  },
  {
   "cell_type": "code",
   "execution_count": 4,
   "metadata": {},
   "outputs": [
    {
     "name": "stderr",
     "output_type": "stream",
     "text": [
      "C:\\ProgramData\\Anaconda3\\lib\\site-packages\\pulp\\pulp.py:1352: UserWarning: Spaces are not permitted in the name. Converted to '_'\n",
      "  warnings.warn(\"Spaces are not permitted in the name. Converted to '_'\")\n"
     ]
    }
   ],
   "source": [
    "# Creating an LP problem \n",
    "\n",
    "prob = LpProblem(\"General Transportation Problem\", LpMinimize)"
   ]
  },
  {
   "cell_type": "markdown",
   "metadata": {},
   "source": [
    "### Define Decision Variables"
   ]
  },
  {
   "cell_type": "code",
   "execution_count": 5,
   "metadata": {},
   "outputs": [],
   "source": [
    "# Creating list of tuples for all possible routes between facilities and retail_stores \n",
    "\n",
    "routes = [(f,r) for f in facilities for r in retail_stores]\n",
    "\n",
    "# A dictionary vars that contain the variable routes\n",
    "\n",
    "vars = LpVariable.dicts(\"Route\", (facilities, retail_stores), 0, None, LpInteger)"
   ]
  },
  {
   "cell_type": "code",
   "execution_count": 6,
   "metadata": {},
   "outputs": [
    {
     "data": {
      "text/plain": [
       "[('Troy', 'Pittsburg'),\n",
       " ('Troy', 'Cleveland'),\n",
       " ('Troy', 'Buffalo'),\n",
       " ('Troy', 'Philadelphia'),\n",
       " ('Troy', 'Boston'),\n",
       " ('Troy', 'New York'),\n",
       " ('Troy', 'Providence'),\n",
       " ('Troy', 'Hartford'),\n",
       " ('Newark', 'Pittsburg'),\n",
       " ('Newark', 'Cleveland'),\n",
       " ('Newark', 'Buffalo'),\n",
       " ('Newark', 'Philadelphia'),\n",
       " ('Newark', 'Boston'),\n",
       " ('Newark', 'New York'),\n",
       " ('Newark', 'Providence'),\n",
       " ('Newark', 'Hartford'),\n",
       " ('Harrisburg', 'Pittsburg'),\n",
       " ('Harrisburg', 'Cleveland'),\n",
       " ('Harrisburg', 'Buffalo'),\n",
       " ('Harrisburg', 'Philadelphia'),\n",
       " ('Harrisburg', 'Boston'),\n",
       " ('Harrisburg', 'New York'),\n",
       " ('Harrisburg', 'Providence'),\n",
       " ('Harrisburg', 'Hartford')]"
      ]
     },
     "execution_count": 6,
     "metadata": {},
     "output_type": "execute_result"
    }
   ],
   "source": [
    "routes"
   ]
  },
  {
   "cell_type": "markdown",
   "metadata": {},
   "source": [
    "### Define Objective Function"
   ]
  },
  {
   "cell_type": "code",
   "execution_count": 7,
   "metadata": {},
   "outputs": [],
   "source": [
    "# Adding the minimum objective function to 'prob'\n",
    "\n",
    "prob += ( lpSum([vars[f][r] * costs_dict[f][r] for (f,r) in routes]), \"Sum_of_Transportation_Costs\")"
   ]
  },
  {
   "cell_type": "markdown",
   "metadata": {},
   "source": [
    "### Define the Constraints "
   ]
  },
  {
   "cell_type": "code",
   "execution_count": 8,
   "metadata": {},
   "outputs": [],
   "source": [
    "# The supply maximum constriant is added to each node (facilities)\n",
    "\n",
    "for f in facilities:\n",
    "    prob += ( lpSum([vars[f][r] for r in retail_stores]) <= capacity[f], \n",
    "             \"Sum_into_facilities_%s\" % f,\n",
    "    )\n",
    "    \n",
    "# The demand minimum constraint is addded to prob for each demand node (retail_store)\n",
    "\n",
    "for r in retail_stores:\n",
    "    prob += (\n",
    "        lpSum([vars[f][r] for f in facilities]) >= demand[r],\n",
    "        \"Sum_into_retail_stores_%s\" % r,\n",
    "    )   "
   ]
  },
  {
   "cell_type": "markdown",
   "metadata": {},
   "source": [
    "### Solve the model"
   ]
  },
  {
   "cell_type": "code",
   "execution_count": 9,
   "metadata": {},
   "outputs": [
    {
     "data": {
      "text/plain": [
       "1"
      ]
     },
     "execution_count": 9,
     "metadata": {},
     "output_type": "execute_result"
    }
   ],
   "source": [
    "# The problem is using Pulp's choice of solver\n",
    "\n",
    "prob.solve()"
   ]
  },
  {
   "cell_type": "code",
   "execution_count": 10,
   "metadata": {},
   "outputs": [
    {
     "name": "stdout",
     "output_type": "stream",
     "text": [
      "Route_Harrisburg_Boston = 0.0\n",
      "Route_Harrisburg_Buffalo = 0.0\n",
      "Route_Harrisburg_Cleveland = 100.0\n",
      "Route_Harrisburg_Hartford = 0.0\n",
      "Route_Harrisburg_New_York = 0.0\n",
      "Route_Harrisburg_Philadelphia = 0.0\n",
      "Route_Harrisburg_Pittsburg = 200.0\n",
      "Route_Harrisburg_Providence = 0.0\n",
      "Route_Newark_Boston = 0.0\n",
      "Route_Newark_Buffalo = 125.0\n",
      "Route_Newark_Cleveland = 0.0\n",
      "Route_Newark_Hartford = 0.0\n",
      "Route_Newark_New_York = 400.0\n",
      "Route_Newark_Philadelphia = 250.0\n",
      "Route_Newark_Pittsburg = 0.0\n",
      "Route_Newark_Providence = 0.0\n",
      "Route_Troy_Boston = 225.0\n",
      "Route_Troy_Buffalo = 0.0\n",
      "Route_Troy_Cleveland = 0.0\n",
      "Route_Troy_Hartford = 75.0\n",
      "Route_Troy_New_York = 0.0\n",
      "Route_Troy_Philadelphia = 0.0\n",
      "Route_Troy_Pittsburg = 0.0\n",
      "Route_Troy_Providence = 50.0\n",
      "Value objective function = 411.75\n"
     ]
    }
   ],
   "source": [
    "# Print the variables's optimized value\n",
    "\n",
    "for v in prob.variables():\n",
    "    print(v.name, '=', v.varValue)\n",
    "\n",
    "# The optimized objective function value is printed on the screen \n",
    "\n",
    "print(\"Value objective function =\" , value(prob.objective))"
   ]
  },
  {
   "cell_type": "markdown",
   "metadata": {},
   "source": [
    "### The total cost(imbalanced) for the month of January is $411.75"
   ]
  },
  {
   "cell_type": "code",
   "execution_count": null,
   "metadata": {},
   "outputs": [],
   "source": [
    "# List of facilities \n",
    "\n",
    "facilities = ['Troy', 'Newark', 'Harrisburg']\n",
    "\n",
    "# Dictionary for capacity of facilities\n",
    "\n",
    "capacity = {'Troy' : 475 , 'Newark' : 475, 'Harrisburg' : 475}\n",
    "\n",
    "# All retail stores \n",
    "\n",
    "retail_stores = ['Pittsburg', 'Cleveland', 'Buffalo', 'Philadelphia', 'Boston', 'New York', 'Providence', 'Hartford']\n",
    "\n",
    "#Dictionayr of demand\n",
    "\n",
    "demand = {'Pittsburg' : 200, 'Cleveland' : 100, 'Buffalo' : 125, 'Philadelphia' : 250, 'Boston' : 225, \n",
    "          'New York' : 400, 'Providence' : 50, 'Hartford' : 75}\n",
    "\n",
    "# List of all costs \n",
    "\n",
    "costs = [[1.07, 1.02, 0.63, 0.50, 0.37, 0.33, 0.36, 0.25], [0.77, 1.06, 0.61, 0.19, 0.48, 0.03, 0.41, 0.27], [0.43, 0.70, \n",
    "        0.63, 0.23, 0.82, 0.36, 0.74, 0.61]]\n",
    "\n",
    "# Converting cost data into dictionary \n",
    "\n",
    "costs_dict = makeDict([facilities, retail_stores], costs, 0)"
   ]
  },
  {
   "cell_type": "code",
   "execution_count": null,
   "metadata": {},
   "outputs": [],
   "source": [
    "prob = LpProblem(\"General Transportation Problem\", LpMinimize)\\\n",
    "\n",
    "# Creating list of tuples for all possible routes between facilities and retail_stores \n",
    "\n",
    "routes = [(f,r) for f in facilities for r in retail_stores]\n",
    "\n",
    "# A dictionary vars that contain the variable routes\n",
    "\n",
    "vars = LpVariable.dicts(\"Route\", (facilities, retail_stores), 0, None, LpInteger)"
   ]
  },
  {
   "cell_type": "code",
   "execution_count": null,
   "metadata": {},
   "outputs": [],
   "source": [
    "# Adding the minimum objective function to 'prob'\n",
    "\n",
    "prob += ( lpSum([vars[f][r] * costs_dict[f][r] for (f,r) in routes]), \"Sum_of_Transportation_Costs\")\n",
    "\n",
    "# The supply maximum constriant is added to each node (facilities)\n",
    "\n",
    "for f in facilities:\n",
    "    prob += ( lpSum([vars[f][r] for r in retail_stores]) <= capacity[f], \n",
    "             \"Sum_into_facilities_%s\" % f,\n",
    "    )\n",
    "    \n",
    "# The demand minimum constraint is addded to prob for each demand node (retail_store)\n",
    "\n",
    "for r in retail_stores:\n",
    "    prob += (\n",
    "        lpSum([vars[f][r] for f in facilities]) >= demand[r],\n",
    "        \"Sum_into_retail_stores_%s\" % r,\n",
    "    ) "
   ]
  },
  {
   "cell_type": "code",
   "execution_count": null,
   "metadata": {},
   "outputs": [],
   "source": [
    "# The problem is using Pulp's choice of solver\n",
    "\n",
    "prob.solve()\n",
    "\n",
    "# Print the variables's optimized value\n",
    "\n",
    "for v in prob.variables():\n",
    "    print(v.name, '=', v.varValue)\n",
    "\n",
    "# The optimized objective function value is printed on the screen \n",
    "\n",
    "print(\"Value objective function =\" , value(prob.objective))"
   ]
  },
  {
   "cell_type": "markdown",
   "metadata": {},
   "source": [
    "### The total cost (balanced) for the month of January is $421.25"
   ]
  },
  {
   "cell_type": "code",
   "execution_count": null,
   "metadata": {},
   "outputs": [],
   "source": []
  },
  {
   "cell_type": "code",
   "execution_count": null,
   "metadata": {},
   "outputs": [],
   "source": []
  },
  {
   "cell_type": "code",
   "execution_count": null,
   "metadata": {},
   "outputs": [],
   "source": []
  },
  {
   "cell_type": "code",
   "execution_count": null,
   "metadata": {},
   "outputs": [],
   "source": []
  },
  {
   "cell_type": "code",
   "execution_count": null,
   "metadata": {},
   "outputs": [],
   "source": []
  },
  {
   "cell_type": "code",
   "execution_count": null,
   "metadata": {},
   "outputs": [],
   "source": []
  },
  {
   "cell_type": "code",
   "execution_count": null,
   "metadata": {},
   "outputs": [],
   "source": []
  },
  {
   "cell_type": "code",
   "execution_count": null,
   "metadata": {},
   "outputs": [],
   "source": []
  },
  {
   "cell_type": "code",
   "execution_count": null,
   "metadata": {},
   "outputs": [],
   "source": []
  }
 ],
 "metadata": {
  "kernelspec": {
   "display_name": "Python 3",
   "language": "python",
   "name": "python3"
  },
  "language_info": {
   "codemirror_mode": {
    "name": "ipython",
    "version": 3
   },
   "file_extension": ".py",
   "mimetype": "text/x-python",
   "name": "python",
   "nbconvert_exporter": "python",
   "pygments_lexer": "ipython3",
   "version": "3.8.3"
  }
 },
 "nbformat": 4,
 "nbformat_minor": 4
}

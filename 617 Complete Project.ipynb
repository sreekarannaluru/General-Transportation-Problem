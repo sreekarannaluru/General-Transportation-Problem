{
 "cells": [
  {
   "cell_type": "markdown",
   "metadata": {},
   "source": [
    "#                      \"General Transportation Problem\""
   ]
  },
  {
   "cell_type": "code",
   "execution_count": 1,
   "metadata": {},
   "outputs": [],
   "source": [
    "import pandas as pd\n",
    "import numpy as np\n",
    "import pulp\n",
    "from pulp import *"
   ]
  },
  {
   "cell_type": "markdown",
   "metadata": {},
   "source": [
    "# Steps executed in Chronological Order!\n",
    "\n",
    "\n",
    "### 1) Formulate LP,\n",
    "### 2) Initialize LP Model, \n",
    "### 3) Define Decision Variables,\n",
    "### 4) Define Objective Function,\n",
    "### 5) Define the Constraints,\n",
    "### 6) Solve the Model."
   ]
  },
  {
   "cell_type": "code",
   "execution_count": 5,
   "metadata": {},
   "outputs": [],
   "source": [
    "# List of facilities \n",
    "\n",
    "facilities = ['Troy', 'Newark', 'Harrisburg']\n",
    "\n",
    "# Dictionary for capacity of facilities\n",
    "\n",
    "CAPACITY = [{'Troy' : 350 , 'Newark' : 775, 'Harrisburg' : 300}, {'Troy' : 375 , 'Newark' : 825, 'Harrisburg' : 825},\n",
    "           {'Troy' : 450 , 'Newark' : 700, 'Harrisburg' : 375}, {'Troy' : 475 , 'Newark' : 650, 'Harrisburg' : 450},\n",
    "           {'Troy' : 450 , 'Newark' : 575, 'Harrisburg' : 425}, {'Troy' : 325 , 'Newark' : 800, 'Harrisburg' : 355},\n",
    "           {'Troy' : 425 , 'Newark' : 625, 'Harrisburg' : 380}, {'Troy' : 450 , 'Newark' : 700, 'Harrisburg' : 350},\n",
    "           {'Troy' : 325 , 'Newark' : 725, 'Harrisburg' : 250}, {'Troy' : 375 , 'Newark' : 850, 'Harrisburg' : 250},\n",
    "           {'Troy' : 550 , 'Newark' : 1050, 'Harrisburg' : 275}, {'Troy' : 700 , 'Newark' : 1100, 'Harrisburg' : 800}]\n",
    "\n",
    "# All retail stores \n",
    "\n",
    "retail_stores = ['Pittsburg', 'Cleveland', 'Buffalo', 'Philadelphia', 'Boston', 'New York', 'Providence', 'Hartford']\n",
    "\n",
    "#Dictionay of demand\n",
    "\n",
    "DEMAND = [{'Pittsburg' : 200, 'Cleveland' : 100, 'Buffalo' : 125, 'Philadelphia' : 250, 'Boston' : 225, \n",
    "          'New York' : 400, 'Providence' : 50, 'Hartford' : 75},\n",
    "          {'Pittsburg' : 150, 'Cleveland' : 125, 'Buffalo' : 100, 'Philadelphia' : 300, 'Boston' : 200, \n",
    "           'New York' : 425, 'Providence' : 75, 'Hartford' : 100},\n",
    "         {'Pittsburg' : 225, 'Cleveland' : 150, 'Buffalo' : 75, 'Philadelphia' : 250, 'Boston' : 225, \n",
    "          'New York' : 375, 'Providence' : 100, 'Hartford' : 125},\n",
    "          {'Pittsburg' : 250, 'Cleveland' : 200, 'Buffalo' : 100, 'Philadelphia' : 200, 'Boston' : 200, \n",
    "          'New York' : 350, 'Providence' : 125, 'Hartford' : 150},\n",
    "          {'Pittsburg' : 250, 'Cleveland' : 175, 'Buffalo' : 75, 'Philadelphia' : 200, 'Boston' : 250, \n",
    "          'New York' : 300, 'Providence' : 75, 'Hartford' : 125},\n",
    "         {'Pittsburg' : 180, 'Cleveland' : 175, 'Buffalo' : 100, 'Philadelphia' : 300, 'Boston' : 175, \n",
    "          'New York' : 400, 'Providence' : 50, 'Hartford' : 100},\n",
    "         {'Pittsburg' : 180, 'Cleveland' : 200, 'Buffalo' : 125, 'Philadelphia' : 250, 'Boston' : 200, \n",
    "          'New York' : 250, 'Providence' : 100, 'Hartford' : 125},\n",
    "         {'Pittsburg' : 200, 'Cleveland' : 150, 'Buffalo' : 200, 'Philadelphia' : 300, 'Boston' : 150, \n",
    "          'New York' : 200, 'Providence' : 150, 'Hartford' : 150},\n",
    "         {'Pittsburg' : 150, 'Cleveland' : 100, 'Buffalo' : 150, 'Philadelphia' : 350, 'Boston' : 200, \n",
    "          'New York' : 225, 'Providence' : 25, 'Hartford' : 100},\n",
    "         {'Pittsburg' : 150, 'Cleveland' : 100, 'Buffalo' : 100, 'Philadelphia' : 350, 'Boston' : 250, \n",
    "          'New York' : 400, 'Providence' : 50, 'Hartford' : 75},\n",
    "         {'Pittsburg' : 200, 'Cleveland' : 75, 'Buffalo' : 150, 'Philadelphia' : 400, 'Boston' : 300, \n",
    "          'New York' : 500, 'Providence' : 150, 'Hartford' : 100},\n",
    "         {'Pittsburg' : 300, 'Cleveland' : 200, 'Buffalo' : 175, 'Philadelphia' : 450, 'Boston' : 400, \n",
    "          'New York' : 475, 'Providence' : 150, 'Hartford' : 150}\n",
    "         ]\n",
    "\n",
    "# List of all costs \n",
    "\n",
    "costs = [[1.07, 1.02, 0.63, 0.50, 0.37, 0.33, 0.36, 0.25], [0.77, 1.06, 0.61, 0.19, 0.48, 0.03, 0.41, 0.27], [0.43, 0.70, \n",
    "        0.63, 0.23, 0.82, 0.36, 0.74, 0.61]]\n",
    "\n",
    "costs_dict = makeDict([facilities, retail_stores], costs, 0)"
   ]
  },
  {
   "cell_type": "markdown",
   "metadata": {},
   "source": [
    "## Define a function"
   ]
  },
  {
   "cell_type": "code",
   "execution_count": 16,
   "metadata": {},
   "outputs": [],
   "source": [
    "def general_transportation_problem(i):\n",
    "    \n",
    "    capacity = CAPACITY[i]\n",
    "    \n",
    "    demand = DEMAND[i]\n",
    "    \n",
    "    prob = LpProblem(\"General Transportation Problem\", LpMinimize)\n",
    "    \n",
    "    routes = [(f,r) for f in facilities for r in retail_stores]\n",
    "    \n",
    "    vars = LpVariable.dicts(\"Route\", (facilities, retail_stores), 0, None, LpInteger)\n",
    "\n",
    "    \n",
    "    prob += ( lpSum([vars[f][r] * costs_dict[f][r] for (f,r) in routes]), \"Sum_of_Transportation_Costs\")\n",
    "    \n",
    "    for f in facilities:\n",
    "        prob += ( lpSum([vars[f][r] for r in retail_stores]) <= capacity[f], \n",
    "                 \"Sum_into_facilities_%s\" % f,\n",
    "            )\n",
    "    \n",
    "    for r in retail_stores:\n",
    "        prob += (\n",
    "            lpSum([vars[f][r] for f in facilities]) >= demand[r],\n",
    "            \"Sum_into_retail_stores_%s\" % r,\n",
    "        )\n",
    "    \n",
    "    prob.solve()\n",
    "    \n",
    "    for v in prob.variables():\n",
    "        print(v.name, '=', v.varValue)\n",
    "   \n",
    "    return(\"Value objective function =\" , value(prob.objective))"
   ]
  },
  {
   "cell_type": "code",
   "execution_count": 18,
   "metadata": {},
   "outputs": [
    {
     "name": "stdout",
     "output_type": "stream",
     "text": [
      "Route_Harrisburg_Boston = 0.0\n",
      "Route_Harrisburg_Buffalo = 0.0\n",
      "Route_Harrisburg_Cleveland = 175.0\n",
      "Route_Harrisburg_Hartford = 0.0\n",
      "Route_Harrisburg_New_York = 0.0\n",
      "Route_Harrisburg_Philadelphia = 0.0\n",
      "Route_Harrisburg_Pittsburg = 180.0\n",
      "Route_Harrisburg_Providence = 0.0\n",
      "Route_Newark_Boston = 0.0\n",
      "Route_Newark_Buffalo = 100.0\n",
      "Route_Newark_Cleveland = 0.0\n",
      "Route_Newark_Hartford = 0.0\n",
      "Route_Newark_New_York = 400.0\n",
      "Route_Newark_Philadelphia = 300.0\n",
      "Route_Newark_Pittsburg = 0.0\n",
      "Route_Newark_Providence = 0.0\n",
      "Route_Troy_Boston = 175.0\n",
      "Route_Troy_Buffalo = 0.0\n",
      "Route_Troy_Cleveland = 0.0\n",
      "Route_Troy_Hartford = 100.0\n",
      "Route_Troy_New_York = 0.0\n",
      "Route_Troy_Philadelphia = 0.0\n",
      "Route_Troy_Pittsburg = 0.0\n",
      "Route_Troy_Providence = 50.0\n"
     ]
    },
    {
     "data": {
      "text/plain": [
       "('Value objective function =', 437.65)"
      ]
     },
     "execution_count": 18,
     "metadata": {},
     "output_type": "execute_result"
    }
   ],
   "source": [
    "general_transportation_problem(5)"
   ]
  },
  {
   "cell_type": "code",
   "execution_count": null,
   "metadata": {},
   "outputs": [],
   "source": []
  },
  {
   "cell_type": "code",
   "execution_count": null,
   "metadata": {},
   "outputs": [],
   "source": []
  },
  {
   "cell_type": "code",
   "execution_count": null,
   "metadata": {},
   "outputs": [],
   "source": []
  },
  {
   "cell_type": "code",
   "execution_count": null,
   "metadata": {},
   "outputs": [],
   "source": []
  },
  {
   "cell_type": "code",
   "execution_count": null,
   "metadata": {},
   "outputs": [],
   "source": []
  },
  {
   "cell_type": "code",
   "execution_count": null,
   "metadata": {},
   "outputs": [],
   "source": []
  },
  {
   "cell_type": "code",
   "execution_count": null,
   "metadata": {},
   "outputs": [],
   "source": []
  },
  {
   "cell_type": "code",
   "execution_count": null,
   "metadata": {},
   "outputs": [],
   "source": []
  },
  {
   "cell_type": "code",
   "execution_count": null,
   "metadata": {},
   "outputs": [],
   "source": []
  }
 ],
 "metadata": {
  "kernelspec": {
   "display_name": "Python 3",
   "language": "python",
   "name": "python3"
  },
  "language_info": {
   "codemirror_mode": {
    "name": "ipython",
    "version": 3
   },
   "file_extension": ".py",
   "mimetype": "text/x-python",
   "name": "python",
   "nbconvert_exporter": "python",
   "pygments_lexer": "ipython3",
   "version": "3.8.3"
  }
 },
 "nbformat": 4,
 "nbformat_minor": 4
}
